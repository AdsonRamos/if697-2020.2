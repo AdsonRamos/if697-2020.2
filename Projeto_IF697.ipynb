{
 "cells": [
  {
   "cell_type": "markdown",
   "metadata": {
    "colab_type": "text",
    "id": "view-in-github"
   },
   "source": [
    "<a href=\"https://colab.research.google.com/github/AdsonRamos/if697-2020.2/blob/main/Projeto_IF697.ipynb\" target=\"_parent\"><img src=\"https://colab.research.google.com/assets/colab-badge.svg\" alt=\"Open In Colab\"/></a>"
   ]
  },
  {
   "cell_type": "markdown",
   "metadata": {},
   "source": [
    "# Instalando dependências\n",
    "\n",
    "Se estiver executando este notebook no Google Colab, descomente a linha abaixo."
   ]
  },
  {
   "cell_type": "code",
   "execution_count": null,
   "metadata": {},
   "outputs": [],
   "source": [
    "# pip install geopandas"
   ]
  },
  {
   "cell_type": "markdown",
   "metadata": {},
   "source": [
    "# Importando dependências"
   ]
  },
  {
   "cell_type": "code",
   "execution_count": null,
   "metadata": {
    "id": "uAFKRd1Y08b8"
   },
   "outputs": [],
   "source": [
    "import pandas as pd\n",
    "import numpy as np\n",
    "import seaborn as sns\n",
    "from scipy import stats\n",
    "import geopandas\n",
    "\n",
    "import math\n",
    "\n",
    "from matplotlib import pyplot as plt"
   ]
  },
  {
   "cell_type": "markdown",
   "metadata": {
    "id": "Fr6hiAsVEY6y"
   },
   "source": [
    "# Carregando dados"
   ]
  },
  {
   "cell_type": "code",
   "execution_count": null,
   "metadata": {
    "id": "XTfwnXgv1bj0"
   },
   "outputs": [],
   "source": [
    "customers = pd.read_csv(\"https://raw.githubusercontent.com/AdsonRamos/if697-2020.2/main/datasets/olist_customers_dataset.csv\", encoding=\"ISO-8859-1\")\n",
    "geolocation = pd.read_csv(\"https://raw.githubusercontent.com/AdsonRamos/if697-2020.2/main/datasets/olist_geolocation_dataset.csv\", encoding=\"ISO-8859-1\")\n",
    "order_items = pd.read_csv(\"https://raw.githubusercontent.com/AdsonRamos/if697-2020.2/main/datasets/olist_order_items_dataset.csv\", encoding=\"ISO-8859-1\")\n",
    "order_payments = pd.read_csv(\"https://raw.githubusercontent.com/AdsonRamos/if697-2020.2/main/datasets/olist_order_payments_dataset.csv\", encoding=\"ISO-8859-1\")\n",
    "order_reviews = pd.read_csv(\"https://raw.githubusercontent.com/AdsonRamos/if697-2020.2/main/datasets/olist_order_reviews_dataset.csv\", encoding=\"ISO-8859-1\")\n",
    "orders = pd.read_csv(\"https://raw.githubusercontent.com/AdsonRamos/if697-2020.2/main/datasets/olist_orders_dataset.csv\", encoding=\"ISO-8859-1\")\n",
    "products = pd.read_csv(\"https://raw.githubusercontent.com/AdsonRamos/if697-2020.2/main/datasets/olist_products_dataset.csv\", encoding=\"ISO-8859-1\")\n",
    "sellers = pd.read_csv(\"https://raw.githubusercontent.com/AdsonRamos/if697-2020.2/main/datasets/olist_sellers_dataset.csv\", encoding=\"ISO-8859-1\")\n",
    "states_maps = geopandas.read_file(\"https://raw.githubusercontent.com/AdsonRamos/if697-2020.2/main/datasets/br_states_shapefiles.zip\")"
   ]
  },
  {
   "cell_type": "markdown",
   "metadata": {
    "id": "Ag2ybEmcoT6y"
   },
   "source": [
    "# Descrição inicial dos datasets"
   ]
  },
  {
   "cell_type": "code",
   "execution_count": null,
   "metadata": {
    "colab": {
     "base_uri": "https://localhost:8080/"
    },
    "id": "h5VGesWX3unz",
    "outputId": "8b5616d1-018d-4795-e1a5-a9ee7df74029"
   },
   "outputs": [],
   "source": [
    "customers.info()"
   ]
  },
  {
   "cell_type": "code",
   "execution_count": null,
   "metadata": {
    "colab": {
     "base_uri": "https://localhost:8080/"
    },
    "id": "9qcSrl759Xiq",
    "outputId": "6dc8f1cb-f5b0-4701-8803-928970f083eb"
   },
   "outputs": [],
   "source": [
    "geolocation.info()"
   ]
  },
  {
   "cell_type": "code",
   "execution_count": null,
   "metadata": {
    "colab": {
     "base_uri": "https://localhost:8080/"
    },
    "id": "cZIreNdF9Xfd",
    "outputId": "b2608e9a-7247-47d7-945f-1cf3d33bea12"
   },
   "outputs": [],
   "source": [
    "order_items.info()"
   ]
  },
  {
   "cell_type": "code",
   "execution_count": null,
   "metadata": {
    "colab": {
     "base_uri": "https://localhost:8080/"
    },
    "id": "XEiMFgKx9Xci",
    "outputId": "be7ad266-542d-48dc-c7d6-c6464606e31e"
   },
   "outputs": [],
   "source": [
    "order_payments.info()"
   ]
  },
  {
   "cell_type": "code",
   "execution_count": null,
   "metadata": {
    "colab": {
     "base_uri": "https://localhost:8080/"
    },
    "id": "XQas3j-79XTN",
    "outputId": "8a3c91af-6de1-4b65-a326-c9046a908aea"
   },
   "outputs": [],
   "source": [
    "order_reviews.info()"
   ]
  },
  {
   "cell_type": "code",
   "execution_count": null,
   "metadata": {
    "colab": {
     "base_uri": "https://localhost:8080/"
    },
    "id": "8HMbk7cZ9hPh",
    "outputId": "39058903-d87f-4dee-8227-aabf7607d4f0"
   },
   "outputs": [],
   "source": [
    "orders.info()"
   ]
  },
  {
   "cell_type": "code",
   "execution_count": null,
   "metadata": {
    "colab": {
     "base_uri": "https://localhost:8080/"
    },
    "id": "r5kbJnBK9gwJ",
    "outputId": "53e0aeb9-1580-41b6-94ed-132606987b37"
   },
   "outputs": [],
   "source": [
    "products.info()"
   ]
  },
  {
   "cell_type": "code",
   "execution_count": null,
   "metadata": {
    "colab": {
     "base_uri": "https://localhost:8080/"
    },
    "id": "SoDMuewV9sDf",
    "outputId": "f41d6725-beff-493a-b225-cb37d75b0cb6"
   },
   "outputs": [],
   "source": [
    "sellers.info()"
   ]
  },
  {
   "cell_type": "markdown",
   "metadata": {
    "id": "e-sqLXIToT63"
   },
   "source": [
    "Podemos ver que o dataset de geolocalizações é o maior de todos, com mais de 1 milhão de entradas. No outro extremo, temos o de vendedores, com cerca de 3 mil.\n",
    "\n",
    "A maioria das colunas não apresenta valores nulos, mas o dataset de resenhas tem as colunas `review_comment_title` e `review_comment_message` com muitos valores nulos. Também chama a atenção os datasets de produtos e pedidos, onde algumas colunas possuem poucos valores nulos."
   ]
  },
  {
   "cell_type": "markdown",
   "metadata": {
    "id": "ibxu2ICWSQLl"
   },
   "source": [
    "# Estudo sobre o dataset de clientes"
   ]
  },
  {
   "cell_type": "code",
   "execution_count": null,
   "metadata": {
    "colab": {
     "base_uri": "https://localhost:8080/",
     "height": 204
    },
    "id": "Y-C-CIfNDPiL",
    "outputId": "217924eb-b10c-429a-f78f-123bafd103d1"
   },
   "outputs": [],
   "source": [
    "customers.head()"
   ]
  },
  {
   "cell_type": "code",
   "execution_count": null,
   "metadata": {
    "colab": {
     "base_uri": "https://localhost:8080/",
     "height": 297
    },
    "id": "q-srzPLCEiXI",
    "outputId": "eb62b106-f900-4a39-dcdb-9b38d2dca0c4"
   },
   "outputs": [],
   "source": [
    "customers.describe()"
   ]
  },
  {
   "cell_type": "code",
   "execution_count": null,
   "metadata": {
    "colab": {
     "base_uri": "https://localhost:8080/",
     "height": 303
    },
    "id": "9oo4J_nt5nWy",
    "outputId": "09b33c8f-d01a-4b0b-be95-55905482fd74"
   },
   "outputs": [],
   "source": [
    "#Estados mais frequentes nos clientes\n",
    "customers['customer_state'].value_counts().plot(kind='bar', ylabel='Clientes', xlabel='Estados')"
   ]
  },
  {
   "cell_type": "markdown",
   "metadata": {
    "id": "wJzflPLxR0Wl"
   },
   "source": [
    "## Agrupamento por regiões"
   ]
  },
  {
   "cell_type": "code",
   "execution_count": null,
   "metadata": {
    "id": "BhNNqH-D5qtb"
   },
   "outputs": [],
   "source": [
    "sudeste = ['MG', 'RJ', 'RS', 'SP']\n",
    "nordeste = ['AL', 'BA', 'CE', 'MA', 'PB', 'PI', 'PE', 'RN', 'SE']\n",
    "sul = ['PR', 'RS', 'SC']\n",
    "norte = ['AM', 'RR', 'AP', 'PA', 'TO', 'RO', 'AC']\n",
    "centro_oeste = ['MT', 'MS', 'GO', 'DF']"
   ]
  },
  {
   "cell_type": "code",
   "execution_count": null,
   "metadata": {
    "colab": {
     "base_uri": "https://localhost:8080/",
     "height": 0
    },
    "id": "RK-Wm87V3EAs",
    "outputId": "bdf2cc00-6241-44af-d3a9-b6a9ab994d73"
   },
   "outputs": [],
   "source": [
    "#Clientes distribuídos por regiões do país\n",
    "\n",
    "fig, axes = plt.subplots(ncols=3, nrows=2, figsize=(18, 12))\n",
    "fig.delaxes(axes[1,2])\n",
    "\n",
    "northeast_client_counts = customers[customers.customer_state.isin(nordeste)]['customer_state'].value_counts().rename_axis('customer_state').reset_index(name='clients')\n",
    "northeast_client_counts[\"customer_state\"] = northeast_client_counts[\"customer_state\"].astype('category')\n",
    "\n",
    "north_client_counts = customers[customers.customer_state.isin(norte)]['customer_state'].value_counts().rename_axis('customer_state').reset_index(name='clients')\n",
    "north_client_counts[\"customer_state\"] = north_client_counts[\"customer_state\"].astype('category')\n",
    "\n",
    "south_client_counts = customers[customers.customer_state.isin(sul)]['customer_state'].value_counts().rename_axis('customer_state').reset_index(name='clients')\n",
    "south_client_counts[\"customer_state\"] = south_client_counts[\"customer_state\"].astype('category')\n",
    "\n",
    "southeast_client_counts = customers[customers.customer_state.isin(sudeste)]['customer_state'].value_counts().rename_axis('customer_state').reset_index(name='clients')\n",
    "southeast_client_counts[\"customer_state\"] = southeast_client_counts[\"customer_state\"].astype('category')\n",
    "\n",
    "midwest_client_counts = customers[customers.customer_state.isin(centro_oeste)]['customer_state'].value_counts().rename_axis('customer_state').reset_index(name='clients')\n",
    "midwest_client_counts[\"customer_state\"] = midwest_client_counts[\"customer_state\"].astype('category')\n",
    "\n",
    "sns.barplot(x='customer_state', y='clients', order=northeast_client_counts['customer_state'], data=northeast_client_counts, ax=axes[0][0]).set(title=\"Nordeste\")\n",
    "sns.barplot(x='customer_state', y='clients', order=north_client_counts['customer_state'], data=north_client_counts, ax=axes[0][1]).set(title=\"Norte\")\n",
    "sns.barplot(x='customer_state', y='clients', order=south_client_counts['customer_state'], data=south_client_counts, ax=axes[0][2]).set(title=\"Sul\")\n",
    "sns.barplot(x='customer_state', y='clients', order=southeast_client_counts['customer_state'], data=southeast_client_counts, ax=axes[1][0]).set(title=\"Sudeste\")\n",
    "sns.barplot(x='customer_state', y='clients', order=midwest_client_counts['customer_state'], data=midwest_client_counts, ax=axes[1][1]).set(title=\"Centro-Oeste\")"
   ]
  },
  {
   "cell_type": "markdown",
   "metadata": {
    "id": "8m0I-PwniQMA"
   },
   "source": [
    "# Estudo sobre as localizações"
   ]
  },
  {
   "cell_type": "code",
   "execution_count": null,
   "metadata": {
    "colab": {
     "base_uri": "https://localhost:8080/",
     "height": 204
    },
    "id": "rgma32lFiPoI",
    "outputId": "a94dd509-9d60-4651-9629-0ecfc5feb652"
   },
   "outputs": [],
   "source": [
    "geolocation.head()"
   ]
  },
  {
   "cell_type": "code",
   "execution_count": null,
   "metadata": {
    "colab": {
     "base_uri": "https://localhost:8080/",
     "height": 297
    },
    "id": "Ewa2-lBYoT68",
    "outputId": "328eeee8-6cd0-4253-e35c-1f7d257addf7"
   },
   "outputs": [],
   "source": [
    "geolocation.describe()"
   ]
  },
  {
   "cell_type": "code",
   "execution_count": null,
   "metadata": {
    "colab": {
     "base_uri": "https://localhost:8080/",
     "height": 204
    },
    "id": "1SWLfa9QoT69",
    "outputId": "4b80a1d4-fb82-4b75-f269-9497caee0a1e"
   },
   "outputs": [],
   "source": [
    "world_map = geopandas.read_file(geopandas.datasets.get_path('naturalearth_lowres'))\n",
    "world_map.head()"
   ]
  },
  {
   "cell_type": "code",
   "execution_count": null,
   "metadata": {
    "colab": {
     "base_uri": "https://localhost:8080/",
     "height": 204
    },
    "id": "4alFklFFoT69",
    "outputId": "65ae171b-e6d6-4d3b-884e-a180d461cc57"
   },
   "outputs": [],
   "source": [
    "points = geopandas.GeoDataFrame(geolocation, geometry=geopandas.points_from_xy(geolocation['geolocation_lng'], geolocation['geolocation_lat']))\n",
    "points.head()"
   ]
  },
  {
   "cell_type": "code",
   "execution_count": null,
   "metadata": {
    "colab": {
     "base_uri": "https://localhost:8080/",
     "height": 591
    },
    "id": "UtcJy693oT6-",
    "outputId": "61fdf8ce-1269-4e36-bfac-5015eb8354c2"
   },
   "outputs": [],
   "source": [
    "# Localização dos pedidos em relação ao mundo\n",
    "ax = world_map.plot(color='white', edgecolor='black', figsize=(25,20))\n",
    "points.plot(ax=ax, color='red')\n",
    "plt.show()"
   ]
  },
  {
   "cell_type": "code",
   "execution_count": null,
   "metadata": {
    "id": "obMfDzhKoT6-"
   },
   "outputs": [],
   "source": [
    "from sklearn.neighbors import LocalOutlierFactor\n",
    "clf = LocalOutlierFactor(n_neighbors=4)\n",
    "predictions = clf.fit_predict(geolocation[['geolocation_lng', 'geolocation_lat']])\n",
    "predictions[predictions == -1] = 0\n",
    "predictions = predictions.astype('bool')"
   ]
  },
  {
   "cell_type": "code",
   "execution_count": null,
   "metadata": {
    "id": "czqDT0akoT6_"
   },
   "outputs": [],
   "source": [
    "outlier_points = points[predictions]\n",
    "inlier_points = points[~predictions]"
   ]
  },
  {
   "cell_type": "code",
   "execution_count": null,
   "metadata": {
    "colab": {
     "base_uri": "https://localhost:8080/",
     "height": 591
    },
    "id": "jpJlkS8foT6_",
    "outputId": "49751136-fe26-4447-a3ad-3ba7924ffb59"
   },
   "outputs": [],
   "source": [
    "ax = world_map.plot(color='white', edgecolor='black', figsize=(25,20))\n",
    "inlier_points.plot(ax=ax, color='red')\n",
    "outlier_points.plot(ax=ax, color='blue')\n",
    "plt.show()"
   ]
  },
  {
   "cell_type": "code",
   "execution_count": null,
   "metadata": {
    "colab": {
     "base_uri": "https://localhost:8080/",
     "height": 1000
    },
    "id": "3N5uIOkDoT6_",
    "outputId": "0bf8f7f8-f94f-4136-ae94-02852a477168"
   },
   "outputs": [],
   "source": [
    "# Localização dos pedidos no Brasil\n",
    "brazil_map = world_map[world_map['name'] == 'Brazil']\n",
    "points_in_brazil = points.within(brazil_map.iloc[0]['geometry'])\n",
    "ax = brazil_map.plot(color='white', edgecolor='black', figsize=(20,20))\n",
    "points[points_in_brazil].plot(ax=ax, color='red')\n",
    "plt.show()"
   ]
  },
  {
   "cell_type": "code",
   "execution_count": null,
   "metadata": {
    "colab": {
     "base_uri": "https://localhost:8080/",
     "height": 716
    },
    "id": "6b8SuvlXMzda",
    "outputId": "05088938-e929-4672-c7c4-ceb60d3560ac"
   },
   "outputs": [],
   "source": [
    "# Localização dos pedidos no nordeste\n",
    "fig, axes = plt.subplots(ncols=3, nrows=3, figsize=(18, 12))\n",
    "for i in range(len(nordeste)):\n",
    "  axes[int(i/3)][i%3].scatter(geolocation[geolocation['geolocation_state'] == nordeste[i]]['geolocation_lng'], geolocation[geolocation['geolocation_state'] == nordeste[i]]['geolocation_lat'])\n",
    "  axes[int(i/3)][i%3].set_title(nordeste[i])\n",
    "  axes[int(i/3)][i%3].grid(True)"
   ]
  },
  {
   "cell_type": "code",
   "execution_count": null,
   "metadata": {
    "colab": {
     "base_uri": "https://localhost:8080/",
     "height": 281
    },
    "id": "0KVwfTo800Ko",
    "outputId": "e9349641-53af-44cc-e5f5-45c39b25f945"
   },
   "outputs": [],
   "source": [
    "# Localização dos pedidos no sudeste\n",
    "fig, axes = plt.subplots(ncols=4, nrows=1, figsize=(18, 4))\n",
    "for i in range(len(sudeste)):\n",
    "  axes[i].scatter(geolocation[geolocation['geolocation_state'] == sudeste[i]]['geolocation_lng'], geolocation[geolocation['geolocation_state'] == sudeste[i]]['geolocation_lat'])\n",
    "  axes[i].set_title(sudeste[i])\n",
    "  axes[i].grid(True)"
   ]
  },
  {
   "cell_type": "code",
   "execution_count": null,
   "metadata": {
    "colab": {
     "base_uri": "https://localhost:8080/",
     "height": 281
    },
    "id": "PJjNHylg02LD",
    "outputId": "c7cfd03d-6e1f-4ed9-8338-6a2968f23def"
   },
   "outputs": [],
   "source": [
    "# Localização dos pedidos no sul\n",
    "fig, axes = plt.subplots(ncols=3, nrows=1, figsize=(18, 4))\n",
    "for i in range(len(sul)):\n",
    "  axes[i].scatter(geolocation[geolocation['geolocation_state'] == sul[i]]['geolocation_lng'], geolocation[geolocation['geolocation_state'] == sul[i]]['geolocation_lat'])\n",
    "  axes[i].set_title(sul[i])\n",
    "  axes[i].grid(True)"
   ]
  },
  {
   "cell_type": "code",
   "execution_count": null,
   "metadata": {
    "colab": {
     "base_uri": "https://localhost:8080/",
     "height": 716
    },
    "id": "XFx1gzlQ013I",
    "outputId": "52aa51a7-66e3-4bee-e1d8-786d299ac090"
   },
   "outputs": [],
   "source": [
    "# Localização dos pedidos no norte\n",
    "fig, axes = plt.subplots(ncols=3, nrows=3, figsize=(18, 12))\n",
    "fig.delaxes(axes[2,1])\n",
    "fig.delaxes(axes[2,2])\n",
    "for i in range(len(norte)):\n",
    "  axes[int(i/3)][i%3].scatter(geolocation[geolocation['geolocation_state'] == norte[i]]['geolocation_lng'], geolocation[geolocation['geolocation_state'] == norte[i]]['geolocation_lat'])\n",
    "  axes[int(i/3)][i%3].set_title(norte[i])\n",
    "  axes[int(i/3)][i%3].grid(True)"
   ]
  },
  {
   "cell_type": "code",
   "execution_count": null,
   "metadata": {
    "colab": {
     "base_uri": "https://localhost:8080/",
     "height": 281
    },
    "id": "E_SYjJ4b01Jf",
    "outputId": "8ed9c0b1-8188-4fd2-bd82-3171d97f60ae"
   },
   "outputs": [],
   "source": [
    "# Localização dos pedidos no centro_oeste\n",
    "fig, axes = plt.subplots(ncols=4, nrows=1, figsize=(18, 4))\n",
    "for i in range(len(centro_oeste)):\n",
    "  axes[i].scatter(geolocation[geolocation['geolocation_state'] == centro_oeste[i]]['geolocation_lng'], geolocation[geolocation['geolocation_state'] == centro_oeste[i]]['geolocation_lat'])\n",
    "  axes[i].set_title(centro_oeste[i])\n",
    "  axes[i].grid(True)"
   ]
  },
  {
   "cell_type": "markdown",
   "metadata": {
    "id": "awLutVlxA0cI"
   },
   "source": [
    "Observe que em algums gráficos, alguns pontos encontram-se bem distantes da maior parte deles. Vamos concentrar esses pontos removendo outliers usando razão de duas variáveis."
   ]
  },
  {
   "cell_type": "markdown",
   "metadata": {
    "id": "K1AmbU3F8AHC"
   },
   "source": [
    "Removeremos outliers do estado de Pernambuco utilizando razão de duas variáveis"
   ]
  },
  {
   "cell_type": "code",
   "execution_count": null,
   "metadata": {
    "colab": {
     "base_uri": "https://localhost:8080/"
    },
    "id": "HnTAfRGH-_fE",
    "outputId": "70b07e5b-4a17-47c5-c5e5-540bc9bb06c1"
   },
   "outputs": [],
   "source": [
    "geolocation_pe = geolocation[geolocation['geolocation_state'] == 'PE']\n",
    "print(len(geolocation_pe))\n",
    "geolocation_pe['lat_per_lng'] = geolocation_pe['geolocation_lat']/geolocation_pe['geolocation_lng']"
   ]
  },
  {
   "cell_type": "code",
   "execution_count": null,
   "metadata": {
    "colab": {
     "base_uri": "https://localhost:8080/"
    },
    "id": "r8q6YUWJ_ois",
    "outputId": "445df28c-108a-4d87-c365-e1087eb6bc73"
   },
   "outputs": [],
   "source": [
    "geolocation_pe['lat_per_lng'].describe()"
   ]
  },
  {
   "cell_type": "code",
   "execution_count": null,
   "metadata": {
    "colab": {
     "base_uri": "https://localhost:8080/",
     "height": 283
    },
    "id": "_W-TeP2R_t6f",
    "outputId": "37d12710-f10a-4b56-c01f-1dff154ae504"
   },
   "outputs": [],
   "source": [
    "geolocation_pe['lat_per_lng'].plot.box()"
   ]
  },
  {
   "cell_type": "code",
   "execution_count": null,
   "metadata": {
    "colab": {
     "base_uri": "https://localhost:8080/",
     "height": 283
    },
    "id": "wDWeRTCs_0fQ",
    "outputId": "94c8a42c-360e-4cc5-8801-e844cba6e7d6"
   },
   "outputs": [],
   "source": [
    "geolocation_pe['lat_per_lng'].hist()"
   ]
  },
  {
   "cell_type": "code",
   "execution_count": null,
   "metadata": {
    "colab": {
     "base_uri": "https://localhost:8080/"
    },
    "id": "4F9e9W14_4Oa",
    "outputId": "87dd2511-b6c7-49af-d2ac-d67997435ad3"
   },
   "outputs": [],
   "source": [
    "geolocation_pe['lat_per_lng'] = log10(geolocation_pe['lat_per_lng'])"
   ]
  },
  {
   "cell_type": "code",
   "execution_count": null,
   "metadata": {
    "colab": {
     "base_uri": "https://localhost:8080/",
     "height": 282
    },
    "id": "6GMRVQctACvt",
    "outputId": "206afc93-7dba-41d8-c99a-ab9fd63933fa"
   },
   "outputs": [],
   "source": [
    "geolocation_pe['lat_per_lng'].hist()"
   ]
  },
  {
   "cell_type": "code",
   "execution_count": null,
   "metadata": {
    "id": "I5IEQLs8AHIj"
   },
   "outputs": [],
   "source": [
    "mad = abs(geolocation_pe['lat_per_lng'] - geolocation_pe['lat_per_lng'].median()).median()*(1/0.6745)"
   ]
  },
  {
   "cell_type": "code",
   "execution_count": null,
   "metadata": {
    "colab": {
     "base_uri": "https://localhost:8080/",
     "height": 283
    },
    "id": "eVd13WKXBOuN",
    "outputId": "071b3057-e580-45a2-cf07-09589e04ffaf"
   },
   "outputs": [],
   "source": [
    "(abs(geolocation_pe['lat_per_lng'] - geolocation_pe['lat_per_lng'].median())/mad).hist()"
   ]
  },
  {
   "cell_type": "code",
   "execution_count": null,
   "metadata": {
    "colab": {
     "base_uri": "https://localhost:8080/",
     "height": 589
    },
    "id": "DgPElYEBBnbE",
    "outputId": "0caafee3-6ccc-4d19-e8c7-e0f22a5aede5"
   },
   "outputs": [],
   "source": [
    "geolocation_pe[abs(geolocation_pe['lat_per_lng'] - geolocation_pe['lat_per_lng'].median())/mad > 3.5]"
   ]
  },
  {
   "cell_type": "code",
   "execution_count": null,
   "metadata": {
    "colab": {
     "base_uri": "https://localhost:8080/"
    },
    "id": "TUNyxOFfCFFv",
    "outputId": "e7ad71b8-d3d1-489f-e057-8fa9511d9c9d"
   },
   "outputs": [],
   "source": [
    "geolocation_pe = geolocation_pe[abs(geolocation_pe['lat_per_lng'] - geolocation_pe['lat_per_lng'].median())/mad < 3.5]\n",
    "print(len(geolocation_pe))"
   ]
  },
  {
   "cell_type": "markdown",
   "metadata": {
    "id": "1nbEX9Oenhpg"
   },
   "source": [
    "# Estudo sobre os pedidos"
   ]
  },
  {
   "cell_type": "code",
   "execution_count": null,
   "metadata": {
    "colab": {
     "base_uri": "https://localhost:8080/",
     "height": 224
    },
    "id": "21joEEeJnj8w",
    "outputId": "d1fa2b8d-1338-4bc7-d41c-172f2e98d859"
   },
   "outputs": [],
   "source": [
    "products.head()"
   ]
  },
  {
   "cell_type": "markdown",
   "metadata": {
    "id": "JRVHP0A5DVd7"
   },
   "source": [
    "Como existem muitas categorias, é interessante buscar aquelas cuja distribuição de alguma variável segue uma normal. Escolheremos a variável peso. E a seguir, plotaremos os respectivos boxplots e histogramas, evidenciando e o que foi suposto nos testes."
   ]
  },
  {
   "cell_type": "code",
   "execution_count": null,
   "metadata": {
    "id": "r8lFDo5v75IT"
   },
   "outputs": [],
   "source": [
    "# Categorias com mais de 100 registros\n",
    "\n",
    "top_frequency_categories = products['product_category_name'].value_counts()[products['product_category_name'].value_counts() > 100].index.tolist()\n",
    "tests = []"
   ]
  },
  {
   "cell_type": "code",
   "execution_count": null,
   "metadata": {
    "id": "iGijwxagBeqg"
   },
   "outputs": [],
   "source": [
    "for i in range(0, len(top_frequency_categories)):\n",
    "  statistic, p_value = stats.shapiro(products[products['product_category_name'] == top_frequency_categories[i]]['product_weight_g'])\n",
    "  x = float(statistic) \n",
    "  shapiro_test = {\n",
    "      \"statistic\": statistic,\n",
    "      \"p_value\": p_value,\n",
    "      \"category\": top_frequency_categories[i]\n",
    "  }\n",
    "  if(not math.isnan(x)):\n",
    "    tests.append(shapiro_test)"
   ]
  },
  {
   "cell_type": "code",
   "execution_count": null,
   "metadata": {
    "id": "cfuMixcBFVFN"
   },
   "outputs": [],
   "source": [
    "tests = sorted(tests, key=lambda k: k['statistic'], reverse=True)"
   ]
  },
  {
   "cell_type": "code",
   "execution_count": null,
   "metadata": {
    "colab": {
     "base_uri": "https://localhost:8080/"
    },
    "id": "hNmggYRHFjxT",
    "outputId": "c2c9f658-8ce6-4c8c-806f-f4a1f45886a4"
   },
   "outputs": [],
   "source": [
    "tests[:5]"
   ]
  },
  {
   "cell_type": "code",
   "execution_count": null,
   "metadata": {
    "colab": {
     "base_uri": "https://localhost:8080/",
     "height": 281
    },
    "id": "AP8yAnr0G3zs",
    "outputId": "05bba73a-ff88-48ac-c37c-5ba97dc8006d"
   },
   "outputs": [],
   "source": [
    "# Histogramas dos 5 principais testes\n",
    "fig, axes = plt.subplots(ncols=5, nrows=1, figsize=(18, 4))\n",
    "for i in range(5):\n",
    "  axes[i].hist(products[products['product_category_name'] == tests[:5][i]['category']]['product_weight_g'])\n",
    "  axes[i].set_title(tests[:5][i]['category'])\n",
    "  axes[i].grid(True)"
   ]
  },
  {
   "cell_type": "code",
   "execution_count": null,
   "metadata": {
    "colab": {
     "base_uri": "https://localhost:8080/",
     "height": 281
    },
    "id": "2MN6dknCMd8n",
    "outputId": "1da35d75-640b-44ab-c5c7-09b71568a1ea"
   },
   "outputs": [],
   "source": [
    "# Boxplot dos 5 principais testes\n",
    "fig, axes = plt.subplots(ncols=5, nrows=1, figsize=(18, 4))\n",
    "for i in range(5):\n",
    "  axes[i].boxplot(products[products['product_category_name'] == tests[:5][i]['category']]['product_weight_g'])\n",
    "  axes[i].set_title(tests[:5][i]['category'])\n",
    "  axes[i].grid(True)"
   ]
  },
  {
   "cell_type": "markdown",
   "metadata": {
    "id": "NeNPVwOz8ECq"
   },
   "source": [
    "Para cada uma das categorias descritas acima, vamos remover alguns outliers utilizando técnicas de remoção univariadas"
   ]
  },
  {
   "cell_type": "markdown",
   "metadata": {
    "id": "H_s_zm8Er9Kn"
   },
   "source": [
    "# Removendo outlier utilizando z-score robusto"
   ]
  },
  {
   "cell_type": "markdown",
   "metadata": {
    "id": "foIGZ3tvvtyF"
   },
   "source": [
    "Para remover outliers, vamo escolher um subconjunto cuja distribuição dos dados esteja bastante esparsa. Por exemplo, escolheremos o 25º resultado dos testes obtidos na seção anterior."
   ]
  },
  {
   "cell_type": "code",
   "execution_count": null,
   "metadata": {
    "colab": {
     "base_uri": "https://localhost:8080/"
    },
    "id": "73dNrUDhj-1x",
    "outputId": "ee3a79be-b277-45b5-a718-eb0e2a3e0d82"
   },
   "outputs": [],
   "source": [
    "from numpy import log10\n",
    "pesos = products[products['product_category_name'] == tests[25]['category']]['product_weight_g']\n",
    "print(len(pesos))"
   ]
  },
  {
   "cell_type": "code",
   "execution_count": null,
   "metadata": {
    "colab": {
     "base_uri": "https://localhost:8080/",
     "height": 0
    },
    "id": "5exJ_oBaore6",
    "outputId": "8fbed1c9-62b9-4df7-d488-794ac0c4100e"
   },
   "outputs": [],
   "source": [
    "pesos_log = log10(pesos)\n",
    "pesos_log.hist()"
   ]
  },
  {
   "cell_type": "code",
   "execution_count": null,
   "metadata": {
    "colab": {
     "base_uri": "https://localhost:8080/"
    },
    "id": "VZu1-Qjtk3yN",
    "outputId": "6d3fd3ee-a2bf-4498-95bf-c639e7568451"
   },
   "outputs": [],
   "source": [
    "from numpy import abs\n",
    "mad = abs(pesos_log - pesos_log.median()).median()*(1/0.6745)\n",
    "print(mad)"
   ]
  },
  {
   "cell_type": "code",
   "execution_count": null,
   "metadata": {
    "colab": {
     "base_uri": "https://localhost:8080/"
    },
    "id": "-5SlTjQQmfV0",
    "outputId": "7b89446e-642a-4f4e-fba9-ef538a5b1c60"
   },
   "outputs": [],
   "source": [
    "pesos_log.mad()"
   ]
  },
  {
   "cell_type": "code",
   "execution_count": null,
   "metadata": {
    "colab": {
     "base_uri": "https://localhost:8080/",
     "height": 0
    },
    "id": "1KvERUHinqdc",
    "outputId": "87ba50ef-1439-4ef0-a23e-f702ad00e556"
   },
   "outputs": [],
   "source": [
    "(abs(pesos_log - pesos_log.median())/mad).hist()"
   ]
  },
  {
   "cell_type": "code",
   "execution_count": null,
   "metadata": {
    "colab": {
     "base_uri": "https://localhost:8080/"
    },
    "id": "St6tB5B-oeG9",
    "outputId": "21e3b5e7-1e8a-4652-f607-92a8c2a5be45"
   },
   "outputs": [],
   "source": [
    "pesos_depois = pesos[abs(pesos_log - pesos_log.median())/mad < 3.5]\n",
    "len(pesos_depois)"
   ]
  },
  {
   "cell_type": "code",
   "execution_count": null,
   "metadata": {
    "colab": {
     "base_uri": "https://localhost:8080/",
     "height": 0
    },
    "id": "LVgd4dEBvm7L",
    "outputId": "ef624d50-1efe-4d21-f2b1-6019657b673b"
   },
   "outputs": [],
   "source": [
    "fig, axes = plt.subplots(ncols=2, nrows=2, figsize=(18, 12))\n",
    "axes[0][0].hist(pesos)\n",
    "axes[0][0].set_title('Antes da remoção')\n",
    "axes[0][0].grid(True)\n",
    "axes[0][1].hist(pesos_depois)\n",
    "axes[0][1].set_title('Depois da remoção')\n",
    "axes[0][1].grid(True)\n",
    "axes[1][0].boxplot(pesos)\n",
    "axes[1][0].set_title('Antes da remoção')\n",
    "axes[1][0].grid(True)\n",
    "axes[1][1].boxplot(pesos_depois)\n",
    "axes[1][1].set_title('Depois da remoção')\n",
    "axes[1][1].grid(True)"
   ]
  },
  {
   "cell_type": "markdown",
   "metadata": {
    "id": "-urjpdOa-I7U"
   },
   "source": [
    "# Removendo outliers utilizando método de tukey"
   ]
  },
  {
   "cell_type": "markdown",
   "metadata": {
    "id": "gMqFwsqr-Ikt"
   },
   "source": [
    "Vamos escolher a mesma distribuição do caso anterior, a fim de comparar os resultados no final"
   ]
  },
  {
   "cell_type": "code",
   "execution_count": null,
   "metadata": {
    "colab": {
     "base_uri": "https://localhost:8080/"
    },
    "id": "7RSFO4smu_Gi",
    "outputId": "301c284c-f4a2-4aec-b1b6-02a8bdf4114f"
   },
   "outputs": [],
   "source": [
    "pesos = products[products['product_category_name'] == tests[25]['category']]['product_weight_g']\n",
    "print(len(pesos))"
   ]
  },
  {
   "cell_type": "code",
   "execution_count": null,
   "metadata": {
    "colab": {
     "base_uri": "https://localhost:8080/",
     "height": 0
    },
    "id": "CkMYIe-rxaeV",
    "outputId": "8694bb0c-27e0-4d22-ed8f-11a66ea97211"
   },
   "outputs": [],
   "source": [
    "pesos.plot.box()"
   ]
  },
  {
   "cell_type": "code",
   "execution_count": null,
   "metadata": {
    "colab": {
     "base_uri": "https://localhost:8080/",
     "height": 0
    },
    "id": "JEY4liSSxftR",
    "outputId": "eec555b0-d55c-4bab-80cc-1a2519043957"
   },
   "outputs": [],
   "source": [
    "pesos.hist()"
   ]
  },
  {
   "cell_type": "code",
   "execution_count": null,
   "metadata": {
    "colab": {
     "base_uri": "https://localhost:8080/",
     "height": 0
    },
    "id": "sUtQV0uJx272",
    "outputId": "e34a97ba-eb5f-4f74-b550-325e8cd80683"
   },
   "outputs": [],
   "source": [
    "pesos_log = log10(pesos)\n",
    "pesos_log.hist()"
   ]
  },
  {
   "cell_type": "code",
   "execution_count": null,
   "metadata": {
    "colab": {
     "base_uri": "https://localhost:8080/"
    },
    "id": "bAqlVqjMx851",
    "outputId": "7ddcfa6b-8761-4fe1-f805-117727ea6f46"
   },
   "outputs": [],
   "source": [
    "q1 = pesos_log.quantile(q=0.25)\n",
    "q3 = pesos_log.quantile(q=0.75)\n",
    "iqr = q3 - q1\n",
    "print(iqr)"
   ]
  },
  {
   "cell_type": "code",
   "execution_count": null,
   "metadata": {
    "colab": {
     "base_uri": "https://localhost:8080/"
    },
    "id": "NtyzP4S3yRno",
    "outputId": "5494e7db-900e-484e-c400-ee2db6359fc6"
   },
   "outputs": [],
   "source": [
    "pesos[pesos_log < (q1-1.5*iqr)]"
   ]
  },
  {
   "cell_type": "code",
   "execution_count": null,
   "metadata": {
    "colab": {
     "base_uri": "https://localhost:8080/"
    },
    "id": "cLBiawXRzBWm",
    "outputId": "b8112d23-7077-4b4f-f29d-d932aa952263"
   },
   "outputs": [],
   "source": [
    "pesos[pesos_log > (q3+1.5*iqr)]"
   ]
  },
  {
   "cell_type": "code",
   "execution_count": null,
   "metadata": {
    "colab": {
     "base_uri": "https://localhost:8080/"
    },
    "id": "468b8nMxzIhv",
    "outputId": "91037706-effe-41e0-b988-cafb2a61f5bd"
   },
   "outputs": [],
   "source": [
    "pesos_depois = pesos[abs(pesos_log - pesos_log.median())/mad < 3.5]\n",
    "len(pesos_depois)"
   ]
  },
  {
   "cell_type": "code",
   "execution_count": null,
   "metadata": {
    "colab": {
     "base_uri": "https://localhost:8080/",
     "height": 0
    },
    "id": "CVtpTf0Yz4Vb",
    "outputId": "8a54bb88-8865-42c0-8cf5-667e14464d05"
   },
   "outputs": [],
   "source": [
    "fig, axes = plt.subplots(ncols=2, nrows=2, figsize=(18, 12))\n",
    "axes[0][0].hist(pesos)\n",
    "axes[0][0].set_title('Antes da remoção')\n",
    "axes[0][0].grid(True)\n",
    "axes[0][1].hist(pesos_depois)\n",
    "axes[0][1].set_title('Depois da remoção')\n",
    "axes[0][1].grid(True)\n",
    "axes[1][0].boxplot(pesos)\n",
    "axes[1][0].set_title('Antes da remoção')\n",
    "axes[1][0].grid(True)\n",
    "axes[1][1].boxplot(pesos_depois)\n",
    "axes[1][1].set_title('Depois da remoção')\n",
    "axes[1][1].grid(True)"
   ]
  },
  {
   "cell_type": "markdown",
   "metadata": {
    "id": "riHM4Hdnz6s6"
   },
   "source": [
    "Observe que para essa mesma distribuição de dados, o z-score robusto e o método de Tukey removem a mesma quantidade de dados."
   ]
  }
 ],
 "metadata": {
  "colab": {
   "include_colab_link": true,
   "name": "Projeto IF697.ipynb",
   "provenance": []
  },
  "kernelspec": {
   "display_name": "Python 3 (ipykernel)",
   "language": "python",
   "name": "python3"
  },
  "language_info": {
   "codemirror_mode": {
    "name": "ipython",
    "version": 3
   },
   "file_extension": ".py",
   "mimetype": "text/x-python",
   "name": "python",
   "nbconvert_exporter": "python",
   "pygments_lexer": "ipython3",
   "version": "3.9.5"
  }
 },
 "nbformat": 4,
 "nbformat_minor": 1
}
